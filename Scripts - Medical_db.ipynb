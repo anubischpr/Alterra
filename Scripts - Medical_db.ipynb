{
    "metadata": {
        "kernelspec": {
            "name": "SQL",
            "display_name": "SQL",
            "language": "sql"
        },
        "language_info": {
            "name": "sql",
            "version": ""
        }
    },
    "nbformat_minor": 2,
    "nbformat": 4,
    "cells": [
        {
            "cell_type": "markdown",
            "source": [
                "# Proceso de Creación de la Base de Datos (SuSalud_DB)\n",
                "\n",
                "El proceso de creación está conformado de los siguientes pasos:\n",
                "\n",
                "1. Creación de la Base de Datos\n",
                "2. Creación de las Tablas\n",
                "3. Importación de Datos\n",
                "4. Creación de Vistas y tablas calculadas\n",
                "\n",
                "## Creación de la Base de Datos\n",
                "\n",
                "La base de Datos ha sido creada en los servicios de [Azure SQL](https://portal.azure.com/) con los siguientes atributos:\n",
                "\n",
                "- Edición: Standard\n",
                "- Servicio: S3\n",
                "- Almacenamiento: 250 GB\n",
                "- Collation: SQL\\_Latin1\\_General\\_CP1\\_CI\\_AS\n",
                "\n",
                "## Creación de las tablas Ad Hoc\n",
                "\n",
                "### Catalogo_Niveles"
            ],
            "metadata": {
                "azdata_cell_guid": "ccd47b4b-8d61-44aa-b3bc-e6ee6712ce4e"
            }
        },
        {
            "cell_type": "code",
            "source": [
                "CREATE TABLE [dbo].[Catalogo_Niveles](\r\n",
                "\t[ID] [bigint] NULL,\r\n",
                "\t[Cod_Prod] [nvarchar](150) NOT NULL,\r\n",
                "\t[Laboratory] [nvarchar](250) NULL,\r\n",
                "\t[Prin_Activo] [nvarchar](150) NULL,\r\n",
                "\t[Nom_Form_Farm] [nvarchar](255) NULL,\r\n",
                "\t[Concent] [nvarchar](255) NULL,\r\n",
                "\t[Nom_Prod] [nvarchar](255) NULL,\r\n",
                "\t[Presentac] [nvarchar](255) NULL,\r\n",
                "\t[Fracciones] [float] NULL,\r\n",
                "\t[Clasi_ATC] [nvarchar](255) NULL,\r\n",
                "\t[Nivel 1] [nvarchar](50) NULL,\r\n",
                "\t[Nivel 1 Desc] [nvarchar](100) NULL,\r\n",
                "\t[Nivel 2] [nvarchar](50) NULL,\r\n",
                "\t[Nivel 2 Desc] [nvarchar](100) NULL,\r\n",
                "\t[Nivel 3] [nvarchar](50) NULL,\r\n",
                "\t[Nivel 3 Desc] [nvarchar](100) NULL,\r\n",
                "\t[Nivel 4] [nvarchar](50) NULL,\r\n",
                "\t[Nivel 4 Desc] [nvarchar](100) NULL,\r\n",
                "\t[Nivel 5] [nvarchar](50) NULL,\r\n",
                "\t[Nivel 5 Desc] [nvarchar](100) NULL\r\n",
                ") ON [PRIMARY]\r\n",
                "GO\r\n",
                "SET ANSI_PADDING ON\r\n",
                "GO\r\n",
                "CREATE CLUSTERED INDEX [idx_Catalogo_Niveles] ON [dbo].[Catalogo_Niveles]\r\n",
                "(\r\n",
                "\t[Cod_Prod] ASC\r\n",
                ")WITH (STATISTICS_NORECOMPUTE = OFF, DROP_EXISTING = OFF, ONLINE = OFF, OPTIMIZE_FOR_SEQUENTIAL_KEY = OFF) ON [PRIMARY]\r\n",
                "GO"
            ],
            "metadata": {
                "azdata_cell_guid": "bbde8b5e-93ee-4975-9494-25683991fbdd",
                "tags": [
                    "hide_input"
                ]
            },
            "outputs": [],
            "execution_count": null
        },
        {
            "cell_type": "code",
            "source": [
                "INSERT INTO Catalogo_Niveles\r\n",
                "SELECT *\r\n",
                "FROM vw_catalogo_productos_niveles"
            ],
            "metadata": {
                "azdata_cell_guid": "536c650a-2d87-4938-bf64-1a5419e108d8",
                "tags": [
                    "hide_input"
                ]
            },
            "outputs": [],
            "execution_count": null
        },
        {
            "cell_type": "markdown",
            "source": [
                "### Productos_Laboratorio"
            ],
            "metadata": {
                "azdata_cell_guid": "74cfafd4-8778-4cd6-a0dc-4507679c8bdd"
            }
        },
        {
            "cell_type": "code",
            "source": [
                "CREATE TABLE [dbo].[Productos_Laboratorio](\r\n",
                "\t[Cod_Prod] [nvarchar](150) NULL,\r\n",
                "\t[Laboratory] [nvarchar](250) NULL\r\n",
                ") ON [PRIMARY]\r\n",
                "GO"
            ],
            "metadata": {
                "azdata_cell_guid": "43c9f9ff-0ec9-4f53-b2ad-d8a8ffb9b9b9",
                "tags": [
                    "hide_input"
                ]
            },
            "outputs": [],
            "execution_count": null
        },
        {
            "cell_type": "code",
            "source": [
                "INSERT INTO Productos_Laboratorio\r\n",
                "SELECT *\r\n",
                "FROM vw_productos_laboratorio"
            ],
            "metadata": {
                "azdata_cell_guid": "849a63d5-1219-4876-be90-4afe4a50cc10",
                "tags": [
                    "hide_input"
                ]
            },
            "outputs": [],
            "execution_count": null
        },
        {
            "cell_type": "markdown",
            "source": [
                "## Importación de Datos\r\n",
                "\r\n",
                "Para llevar a cabo esta tarea se utilizó el programa [SSMS](https://aka.ms/ssmsfullsetup) y se ha formateado cada tabla según lo requerido.\r\n",
                "\r\n",
                "### Prestaciones\r\n",
                "\r\n",
                "Conformada por las bases de datos de ESSALUD, EPS y FISSAL, las cuales han seguido la siguiente metodología de carga:\r\n",
                "\r\n",
                "1. Importación de archivo CSV:\r\n",
                "\r\n",
                "![Importación - 1](https://drive.google.com/uc?export=view&id=1zjxDGtph-AIo8UgJnGN5dYdnaUkzKFJ5)\r\n",
                "\r\n",
                "2. Siguiente en la ventana de importación:\r\n",
                "\r\n",
                "![Importación - 2](https://drive.google.com/uc?export=view&id=1lTlAkPavlsCIj11jsDzokTdzyaGZabbt)\r\n",
                "\r\n",
                "3. Llenar los campos necesarios:\r\n",
                "\r\n",
                "![Importación - 3](https://drive.google.com/uc?export=view&id=16sRte9gk91zSX7WEW6haNFKZ8xr6nJys)\r\n",
                "\r\n",
                "4. Vista Previa de la Información:\r\n",
                "\r\n",
                "![Importación - 4](https://drive.google.com/uc?export=view&id=1z_y9ZVLNvDMSwUBO8YDRnpRLMbY-l42V)\r\n",
                "\r\n",
                "5. Selección del Tipo de Datos:\r\n",
                "\r\n",
                "![Importación - 5](https://drive.google.com/uc?export=view&id=1a3FrsM5Vw5l4EWPb5eOS_OT6i4WhGYXZ)\r\n",
                "\r\n",
                "6. Iniciar el Proceso de Importación:\r\n",
                "\r\n",
                "![Importación - 6](https://drive.google.com/uc?export=view&id=1HMx0pC5kshys1rgsqUg-7yxE3OWk9GX-)\r\n",
                "\r\n",
                "7. Finalizar el Proceso de Importación:\r\n",
                "\r\n",
                "![Importación - 7](https://drive.google.com/uc?export=view&id=1f9iUUhoX-SiRqqdCQ8eCZ3soi9b6ZWzc)\r\n",
                "\r\n",
                "#### Consideraciones\r\n",
                "\r\n",
                "en el punto 5 tener en cuenta los siguientes tipos de Datos para los campos: de los archivos de la tabla de `Precios` y `Productos`:\r\n",
                "\r\n",
                "- `Productos`\r\n",
                "    - PK_Catalogo_Producto: int IDENTITY(1,1) NOT NULL,\r\n",
                "    - Cod_Prod: nvarchar (150) NOT NULL,\r\n",
                "    - Nom_Prod: nvarchar (255) NULL,\r\n",
                "    - Concent: nvarchar (255) NULL,\r\n",
                "    - Nom_Form_Farm: nvarchar (255) NULL,\r\n",
                "    - Nom_Form_Farm_Simplif: nvarchar (255) NULL,\r\n",
                "    - Presentac: nvarchar (255) NULL,\r\n",
                "    - Fracciones: float NULL,\r\n",
                "    - Fec_Vcto_Reg_Sanitario: datetime NULL,\r\n",
                "    - Num_RegSan: nvarchar (255) NULL,\r\n",
                "    - Nom_Titular: nvarchar (255) NULL,\r\n",
                "    - Situacion: nvarchar (255) NULL,\r\n",
                "    - dateinclude: datetime NULL,\r\n",
                "    - dateupdate: datetime NULL,\r\n",
                "    - Clasi_ATC: nvarchar (255) NULL,\r\n",
                "    - Prin_Activo: nvarchar (150) NULL,\r\n",
                "    - CheckSumID: int NULL,\r\n",
                "    - Cod_GTIN: nvarchar (13) NULL\r\n",
                "\r\n",
                "- `Precios`\r\n",
                "    - PK_Product_Establishment: bigint IDENTITY(1,1) NOT NULL,\r\n",
                "    - EstablishmentType: nvarchar (250) NULL,\r\n",
                "    - Product: nvarchar (250) NULL,\r\n",
                "    - Laboratory: nvarchar (250) NULL,\r\n",
                "    - EstablishmentName: nvarchar (250) NULL,\r\n",
                "    - Amount: decimal (18, 2) NULL,\r\n",
                "    - UpdateDate: datetime NULL,\r\n",
                "    - Cod_Prod: nvarchar (150) NULL,\r\n",
                "    - Cod_Estab: nvarchar (150) NULL,\r\n",
                "    - UbigeoValue: nvarchar (250) NULL,\r\n",
                "    - DateInclude: datetime NULL\r\n",
                "\r\n",
                "#### Query de las tablas\r\n",
                "- `Productos`"
            ],
            "metadata": {
                "azdata_cell_guid": "7caf6ee3-d8c5-4e62-81cb-c65374e021dd"
            }
        },
        {
            "cell_type": "code",
            "source": [
                "CREATE TABLE [dbo].[Productos](\r\n",
                "\t[PK_Catalogo_Producto] [int] IDENTITY(1,1) NOT NULL,\r\n",
                "\t[Cod_Prod] [nvarchar](150) NOT NULL,\r\n",
                "\t[Nom_Prod] [nvarchar](255) NULL,\r\n",
                "\t[Concent] [nvarchar](255) NULL,\r\n",
                "\t[Nom_Form_Farm] [nvarchar](255) NULL,\r\n",
                "\t[Nom_Form_Farm_Simplif] [nvarchar](255) NULL,\r\n",
                "\t[Presentac] [nvarchar](255) NULL,\r\n",
                "\t[Fracciones] [float] NULL,\r\n",
                "\t[Fec_Vcto_Reg_Sanitario] [datetime] NULL,\r\n",
                "\t[Num_RegSan] [nvarchar](255) NULL,\r\n",
                "\t[Nom_Titular] [nvarchar](255) NULL,\r\n",
                "\t[Situacion] [nvarchar](255) NULL,\r\n",
                "\t[dateinclude] [datetime] NULL,\r\n",
                "\t[dateupdate] [datetime] NULL,\r\n",
                "\t[Clasi_ATC] [nvarchar](255) NULL,\r\n",
                "\t[Prin_Activo] [nvarchar](150) NULL,\r\n",
                "\t[CheckSumID] [int] NULL,\r\n",
                "\t[Cod_GTIN] [nvarchar](13) NULL,\r\n",
                "\t[ATC_N1] [nvarchar](10) NULL,\r\n",
                "\t[ATC_N2] [nvarchar](10) NULL,\r\n",
                " CONSTRAINT [pk_producto] PRIMARY KEY NONCLUSTERED \r\n",
                "(\r\n",
                "\t[Cod_Prod] ASC\r\n",
                ")WITH (STATISTICS_NORECOMPUTE = OFF, IGNORE_DUP_KEY = OFF, OPTIMIZE_FOR_SEQUENTIAL_KEY = OFF) ON [PRIMARY]\r\n",
                ") ON [PRIMARY]\r\n",
                "GO"
            ],
            "metadata": {
                "azdata_cell_guid": "a933e06e-b4e0-4235-b7b8-73df8388a3b3",
                "tags": [
                    "hide_input"
                ]
            },
            "outputs": [],
            "execution_count": null
        },
        {
            "cell_type": "markdown",
            "source": [
                "- `Precios`"
            ],
            "metadata": {
                "azdata_cell_guid": "931d62d7-98a0-4972-9bd9-db03faa60b05"
            }
        },
        {
            "cell_type": "code",
            "source": [
                "CREATE TABLE [dbo].[Precios](\r\n",
                "\t[PK_Product_Establishment] [bigint] IDENTITY(1,1) NOT NULL,\r\n",
                "\t[EstablishmentType] [nvarchar](250) NULL,\r\n",
                "\t[Product] [nvarchar](250) NULL,\r\n",
                "\t[Laboratory] [nvarchar](250) NULL,\r\n",
                "\t[EstablishmentName] [nvarchar](250) NULL,\r\n",
                "\t[Amount] [decimal](18, 2) NULL,\r\n",
                "\t[UpdateDate] [datetime] NULL,\r\n",
                "\t[Cod_Prod] [nvarchar](150) NULL,\r\n",
                "\t[Cod_Estab] [nvarchar](150) NULL,\r\n",
                "\t[UbigeoValue] [nvarchar](250) NULL,\r\n",
                "\t[DateInclude] [datetime] NULL\r\n",
                ") ON [PRIMARY]\r\n",
                "GO\r\n",
                "\r\n",
                "ALTER TABLE [dbo].[Precios]  WITH NOCHECK ADD  CONSTRAINT [fk_cod_estab] FOREIGN KEY([Cod_Estab])\r\n",
                "REFERENCES [dbo].[Establecimientos] ([CODIGO_ESTABLECIMIENTO])\r\n",
                "GO\r\n",
                "\r\n",
                "ALTER TABLE [dbo].[Precios] CHECK CONSTRAINT [fk_cod_estab]\r\n",
                "GO\r\n",
                "\r\n",
                "ALTER TABLE [dbo].[Precios]  WITH NOCHECK ADD  CONSTRAINT [fk_cod_prod] FOREIGN KEY([Cod_Prod])\r\n",
                "REFERENCES [dbo].[Productos] ([Cod_Prod])\r\n",
                "GO\r\n",
                "\r\n",
                "ALTER TABLE [dbo].[Precios] CHECK CONSTRAINT [fk_cod_prod]\r\n",
                "GO"
            ],
            "metadata": {
                "azdata_cell_guid": "f10157bf-b7ac-45e7-ac3e-2bec0675fd7a",
                "tags": [
                    "hide_input"
                ]
            },
            "outputs": [],
            "execution_count": null
        }
    ]
}