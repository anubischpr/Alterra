{
    "metadata": {
        "kernelspec": {
            "name": "SQL",
            "display_name": "SQL",
            "language": "sql"
        },
        "language_info": {
            "name": "sql",
            "version": ""
        }
    },
    "nbformat_minor": 2,
    "nbformat": 4,
    "cells": [
        {
            "cell_type": "markdown",
            "source": [
                "# Documentación Medical Clientes (Medical_db)\n",
                "## Credenciales\n",
                "1. Servidor: oppm4.database.windows.net\n",
                "2. Usuario: oppm_user\n",
                "3. Password: $P@$$w0rd2O21$\n",
                "\n",
                "## Creación del Modelo de Datos (Tablas)\n",
                "\n",
                "La base de datos está conformada por información procedente de las siguientes tablas:\n",
                "\n",
                "- Base de Datos del Estado\n",
                "- Tabla de valores ad hoc\n",
                "- Tablas calculadas\n",
                "\n",
                "### Base de datos del Estado\n",
                "Tablas de información extraídas de fuentes oficiales del estado, en estas tablas tenemos:\n",
                "1. `Productos`: Es el consolidado de la información ubicada en la página de [DIGEMID](http://observatorio.digemid.minsa.gob.pe) que, a su vez es trabajada y enriquecida para lograr la estructura final\n",
                "\n",
                "2. `Precios`: Es el consolidado de la información ubicada en la página de [DIGEMID](http://observatorio.digemid.minsa.gob.pe) que, a su vez es trabajada y enriquecida para lograr la estructura final\n",
                "\n",
                "3. `Establecimientos`: Base de datos de las Instituciones prestadoras de Salud, ubicada en la página de [SUSALUD](http://datos.susalud.gob.pe/) y conformada por la base de datos de [RENIPRESS](http://datos.susalud.gob.pe/group/renipress).\n",
                "\n",
                "### Tabla de valores Ad Hoc\n",
                "Tablas de información provistas por ***Javier Linares*** (<linares.j@alterra.pe>), en estas tablas tenemos:\n",
                "1. `ATC`: Tabla donde se contiene la información de la lista de clasificaciones ATC con sus respectivos Niveles de Jerarquía\n",
                "\n",
                "### Tablas calculadas\n",
                "Tablas que procesan la información de otras tablas, en estas tablas tenemos:\n",
                "Tabla que permiten el cruce de información entre la tabla `Productos` y `ATC` procesadas a raíz de la vista ``vw_catalogo_productos_niveles``:\n",
                "```SQL\n",
                "SELECT *\n",
                "FROM vw_catalogo_productos_niveles;\n",
                "```\n",
                "Tabla que permite la visualización de Productos por Laboratorio de la tabla de `Precios` a raíz de la vista ``vw_productos_laboratorio``:\n",
                "```SQL\n",
                "SELECT *\n",
                "FROM vw_productos_laboratorio;\n",
                "```\n",
                "El objetivo de estos algoritmos es mostrar la información con el siguiente modelo, con la llave principal Cod_Prod:\n",
                "\n",
                "| ID | Cod_Prod | Laboratory | Prin_Activo | Nom_Form_Farm | Concent | Nom_Prod | Presentac | Fracciones | Clasi_ATC | Nivel 1 | Nivel 1 Desc | Nivel 2 | Nivel 2 Desc | Nivel 3 | Nivel 3 Desc | Nivel 4 | Nivel 4 Desc | Nivel 5 | Nivel 5 Desc |\n",
                "| :- |:-------: |:----------:|:-----------:|:-------------:|:-------:|:--------:| :--------:| :---------:| :--------:| :------:| :-----------:| :------:| :------:| :-------------:| :-----------:| :------:| :-----------:| :------:| :-----------:|\n",
                "| 1 | `10`| MEDIFARMA|Ampicilina, combinaciones|Polvo para Solución Inyectable|300mg|AB BRONCOL|Vial|1|J01CA51|J|ANTIINFECCIOSOS PARA USO SISTEMICO|J01|ANTIBACTERIANOS PARA USO SISTEMICO|J01C|ANTIBACTERIANOS BETALACTAMICOS, PENICILINAS|J01CA|Penicilinas con espectro ampliado|J01CA51|Ampicilina, combinaciones|\n",
                "\n",
                "Las tablas temporales que van a ayudar al procesamiento de esta información son:\n",
                "- `Catalogo_Niveles`: esta tabla tiene como objetivo almacenar la información correspondiente a la vista `vw_catalogo_productos_niveles` y reducir el costo de procesamiento de la base de datos\n",
                "- `Productos_Laboratorio`: esta tabla tiene como objetivo almacenar la información correspondiente a la vista `vw_productos_laboratorio` y reducir el costo de procesamiento de la base de datos"
            ],
            "metadata": {
                "azdata_cell_guid": "5d36290c-2851-4ba7-92f2-5cc8cb8bf0a0"
            }
        }
    ]
}